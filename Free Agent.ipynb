{
 "cells": [
  {
   "cell_type": "code",
   "execution_count": 1,
   "metadata": {},
   "outputs": [
    {
     "data": {
      "text/html": [
       "<div>\n",
       "<style scoped>\n",
       "    .dataframe tbody tr th:only-of-type {\n",
       "        vertical-align: middle;\n",
       "    }\n",
       "\n",
       "    .dataframe tbody tr th {\n",
       "        vertical-align: top;\n",
       "    }\n",
       "\n",
       "    .dataframe thead th {\n",
       "        text-align: right;\n",
       "    }\n",
       "</style>\n",
       "<table border=\"1\" class=\"dataframe\">\n",
       "  <thead>\n",
       "    <tr style=\"text-align: right;\">\n",
       "      <th></th>\n",
       "      <th>company</th>\n",
       "      <th>company_type</th>\n",
       "      <th>subscribed_after_free_trial</th>\n",
       "    </tr>\n",
       "  </thead>\n",
       "  <tbody>\n",
       "    <tr>\n",
       "      <th>0</th>\n",
       "      <td>346782</td>\n",
       "      <td>uk_limited_company</td>\n",
       "      <td>False</td>\n",
       "    </tr>\n",
       "    <tr>\n",
       "      <th>1</th>\n",
       "      <td>346783</td>\n",
       "      <td>uk_limited_company</td>\n",
       "      <td>False</td>\n",
       "    </tr>\n",
       "    <tr>\n",
       "      <th>2</th>\n",
       "      <td>346784</td>\n",
       "      <td>uk_limited_company</td>\n",
       "      <td>True</td>\n",
       "    </tr>\n",
       "    <tr>\n",
       "      <th>3</th>\n",
       "      <td>346785</td>\n",
       "      <td>uk_limited_company</td>\n",
       "      <td>False</td>\n",
       "    </tr>\n",
       "    <tr>\n",
       "      <th>4</th>\n",
       "      <td>346786</td>\n",
       "      <td>uk_limited_company</td>\n",
       "      <td>False</td>\n",
       "    </tr>\n",
       "  </tbody>\n",
       "</table>\n",
       "</div>"
      ],
      "text/plain": [
       "   company        company_type  subscribed_after_free_trial\n",
       "0   346782  uk_limited_company                        False\n",
       "1   346783  uk_limited_company                        False\n",
       "2   346784  uk_limited_company                         True\n",
       "3   346785  uk_limited_company                        False\n",
       "4   346786  uk_limited_company                        False"
      ]
     },
     "execution_count": 1,
     "metadata": {},
     "output_type": "execute_result"
    }
   ],
   "source": [
    "import pandas as pd\n",
    "import numpy as np\n",
    "import matplotlib.pyplot as plt\n",
    "\n",
    "\n",
    "data = pd.read_csv(\"attributes_report.csv\")\n",
    "\n",
    "\n",
    "data.head()"
   ]
  },
  {
   "cell_type": "code",
   "execution_count": 2,
   "metadata": {},
   "outputs": [
    {
     "data": {
      "text/plain": [
       "False    789\n",
       "True     161\n",
       "Name: subscribed_after_free_trial, dtype: int64"
      ]
     },
     "execution_count": 2,
     "metadata": {},
     "output_type": "execute_result"
    }
   ],
   "source": [
    "subscribed = data['subscribed_after_free_trial'].value_counts()\n",
    "subscribed"
   ]
  },
  {
   "cell_type": "code",
   "execution_count": 3,
   "metadata": {},
   "outputs": [
    {
     "data": {
      "image/png": "[encoded data removed]",
      "text/plain": [
       "<Figure size 432x288 with 1 Axes>"
      ]
     },
     "metadata": {},
     "output_type": "display_data"
    }
   ],
   "source": [
    "explode = (0, 0.1)\n",
    "plt.pie(subscribed, labels = [\"Not Subscribed\", \"Subscribed\"], autopct='%1.1f%%', explode=explode, colors=('#007abfff', '#7cc04a'))\n",
    "plt.title(\"Total Percentage of Subscribed VS Not Subscribed\", pad='20', fontsize='14')\n",
    "plt.axis('equal')\n",
    "plt.show()"
   ]
  },
  {
   "cell_type": "code",
   "execution_count": 4,
   "metadata": {},
   "outputs": [
    {
     "data": {
      "text/plain": [
       "False    397\n",
       "True     103\n",
       "Name: subscribed_after_free_trial, dtype: int64"
      ]
     },
     "execution_count": 4,
     "metadata": {},
     "output_type": "execute_result"
    }
   ],
   "source": [
    "data[data[\"company_type\"] == \"uk_limited_company\"]['subscribed_after_free_trial'].value_counts()"
   ]
  },
  {
   "cell_type": "code",
   "execution_count": 5,
   "metadata": {},
   "outputs": [
    {
     "data": {
      "text/plain": [
       "False    296\n",
       "True      54\n",
       "Name: subscribed_after_free_trial, dtype: int64"
      ]
     },
     "execution_count": 5,
     "metadata": {},
     "output_type": "execute_result"
    }
   ],
   "source": [
    "data[data[\"company_type\"] == \"uk_sole_trader\"]['subscribed_after_free_trial'].value_counts()"
   ]
  },
  {
   "cell_type": "code",
   "execution_count": 6,
   "metadata": {},
   "outputs": [
    {
     "data": {
      "text/plain": [
       "False    96\n",
       "True      4\n",
       "Name: subscribed_after_free_trial, dtype: int64"
      ]
     },
     "execution_count": 6,
     "metadata": {},
     "output_type": "execute_result"
    }
   ],
   "source": [
    "data[data[\"company_type\"] == \"universal_company\"]['subscribed_after_free_trial'].value_counts()"
   ]
  },
  {
   "cell_type": "code",
   "execution_count": 7,
   "metadata": {},
   "outputs": [],
   "source": [
    "Totalnumberofcomapnies = 789+161\n",
    "Totalnumberoftruesuklimited = 103\n",
    "Totalnumberoffalseuklimited = 397\n",
    "Totaluklimited =103+397\n",
    "Totalnumberoftruesuksole= 54\n",
    "Totalnumberoffalseuksole = 296\n",
    "Totaluksole = 54 + 296\n",
    "Totalnumberoftruesuniversal = 4\n",
    "Totalnumberoffalseuniversal = 96\n",
    "Totaluniversal =96+4\n",
    "company_labels = ['UK Limited', 'UK Sole Trader', 'Universal' ]\n",
    "company_labels_tf = ['UK Limited True','UK Limited False', 'UK Sole Trader True', 'UK Sole Trader False', 'Universal True', 'Universal False' ]"
   ]
  },
  {
   "cell_type": "code",
   "execution_count": 8,
   "metadata": {},
   "outputs": [
    {
     "data": {
      "image/png": "[encoded data removed]",
      "text/plain": [
       "<Figure size 432x288 with 1 Axes>"
      ]
     },
     "metadata": {},
     "output_type": "display_data"
    }
   ],
   "source": [
    "plt.pie([Totaluklimited, Totaluksole, Totaluniversal], labels = company_labels, autopct='%1.1f%%', colors=('#007abfff', '#7cc04a', '#FBBE28'))\n",
    "plt.title(\"Client types \", pad='20', fontsize='14')\n",
    "plt.axis('equal')\n",
    "plt.show()"
   ]
  },
  {
   "cell_type": "code",
   "execution_count": 9,
   "metadata": {},
   "outputs": [],
   "source": [
    "true_false_values = [Totalnumberoftruesuklimited, Totalnumberoffalseuklimited, Totalnumberoftruesuksole, Totalnumberoffalseuksole, Totalnumberoftruesuniversal, Totalnumberoffalseuniversal]"
   ]
  },
  {
   "cell_type": "markdown",
   "metadata": {},
   "source": [
    "The above diagram is a pie chart which shows the breakdown of the types of companies which have tried the free agent model. From the above it is clearly visible that Free Agent is a company that is UK based company and has mostly UK based companies who are interested in them."
   ]
  },
  {
   "cell_type": "code",
   "execution_count": 10,
   "metadata": {},
   "outputs": [
    {
     "data": {
      "image/png": "[encoded data removed]",
      "text/plain": [
       "<Figure size 432x288 with 1 Axes>"
      ]
     },
     "metadata": {},
     "output_type": "display_data"
    }
   ],
   "source": [
    "plt.pie(true_false_values, labels = company_labels_tf, autopct='%1.1f%%')\n",
    "plt.title(\"Client types \", pad='20', fontsize='14')\n",
    "plt.axis('equal')\n",
    "plt.show()"
   ]
  },
  {
   "cell_type": "code",
   "execution_count": 11,
   "metadata": {
    "scrolled": true
   },
   "outputs": [
    {
     "name": "stdout",
     "output_type": "stream",
     "text": [
      "['Company Type', 'True', 'False']\n",
      "['UK_Limited', '   103', '  397']\n",
      "['UK_Sole', '       54', '  296']\n",
      "['Universal', '      4', '   96']\n"
     ]
    }
   ],
   "source": [
    "CompanyType = [\"Company Type\", \"True\", \"False\"]\n",
    "UK_L = [\"UK_Limited\", \"   \" + str(true_false_values[0]),\"  \" + str(true_false_values[1])]\n",
    "UK_S = [\"UK_Sole\", \"       \" + str(true_false_values[2]), \"  \" + str(true_false_values[3])]\n",
    "Uni = [\"Universal\", \"      \" + str(true_false_values[4]), \"   \" + str(true_false_values[5])]\n",
    "print(CompanyType)\n",
    "print(UK_L)\n",
    "print(UK_S)\n",
    "print(Uni)"
   ]
  },
  {
   "cell_type": "markdown",
   "metadata": {},
   "source": [
    "The above pie chart is an extension from the pie chart above. This one shows the proportions of companies from each company type that have and have not subscriped to the application. There are a total of 950 companies, from which 789 companies have opted to not subscribe to the application after the 7 day free trial and 161 companies have opted to subscribe after the seven day trial period. \n",
    "\n",
    "500 uk limited companies chose the seven day free trial, 397 of the companies opted not to subscribe to the model and 103 did. This implies that 20.6% of the companies opted for the subscription. \n",
    "\n",
    "350 uk sole trader companies chose the seven day trial period, 296 choose not to subscribe while 54 did. This meant 15,4% of the companies continues with the application after the free trial. \n",
    "\n",
    "100 universal companies chose the seven day trial, 96 of them opted not to subscribe to the model and 4 of them did. Leaving a 4% success rate. \n",
    "\n",
    "Even though overall the companies success rate is 16.9%, the breakdown of the companies show that the the greatest success rate comes from uk limited then uk sole trader. It is evident that universal companies do not use the application as much. There could be many reasons as to why this is the case, perhaps the application does not suit universal's company finanical structure etc. But what this breakdown also shows is that free agent is has greated income from local companies; therefore, should focus on targeting them in their marketing stratigies. \n",
    "\n",
    "Now the next step would be too look at the log entry to see if there is any pattern which customers follow which depicts whether they subscribe or not."
   ]
  },
  {
   "cell_type": "code",
   "execution_count": 12,
   "metadata": {},
   "outputs": [
    {
     "data": {
      "text/plain": [
       "[3, 0, 7, 0, 0, 1, 0, 0, 0, 2, 7, 0, 1, 2, 11]"
      ]
     },
     "execution_count": 12,
     "metadata": {},
     "output_type": "execute_result"
    }
   ],
   "source": [
    "numeric_values = []\n",
    "with open(\"engagement_report.log\", \"r\") as f:\n",
    "        for line in f:\n",
    "            numeric_values.append(int(line[25]))\n",
    "total_usage = []\n",
    "x = 0\n",
    "\n",
    "np_numeric_values = np.array(numeric_values)\n",
    "len(np_numeric_values)\n",
    "while x < len(np_numeric_values):\n",
    "    values  = np_numeric_values[x:x+7]\n",
    "    total_usage.append(np.sum(values))\n",
    "    x = x + 7\n",
    "total_usage[0:15]"
   ]
  },
  {
   "cell_type": "code",
   "execution_count": 13,
   "metadata": {},
   "outputs": [
    {
     "data": {
      "text/html": [
       "<div>\n",
       "<style scoped>\n",
       "    .dataframe tbody tr th:only-of-type {\n",
       "        vertical-align: middle;\n",
       "    }\n",
       "\n",
       "    .dataframe tbody tr th {\n",
       "        vertical-align: top;\n",
       "    }\n",
       "\n",
       "    .dataframe thead th {\n",
       "        text-align: right;\n",
       "    }\n",
       "</style>\n",
       "<table border=\"1\" class=\"dataframe\">\n",
       "  <thead>\n",
       "    <tr style=\"text-align: right;\">\n",
       "      <th></th>\n",
       "      <th>company</th>\n",
       "      <th>company_type</th>\n",
       "      <th>subscribed_after_free_trial</th>\n",
       "      <th>Number of Times Used in a Week</th>\n",
       "    </tr>\n",
       "  </thead>\n",
       "  <tbody>\n",
       "    <tr>\n",
       "      <th>0</th>\n",
       "      <td>346782</td>\n",
       "      <td>uk_limited_company</td>\n",
       "      <td>False</td>\n",
       "      <td>3</td>\n",
       "    </tr>\n",
       "    <tr>\n",
       "      <th>1</th>\n",
       "      <td>346783</td>\n",
       "      <td>uk_limited_company</td>\n",
       "      <td>False</td>\n",
       "      <td>0</td>\n",
       "    </tr>\n",
       "    <tr>\n",
       "      <th>2</th>\n",
       "      <td>346784</td>\n",
       "      <td>uk_limited_company</td>\n",
       "      <td>True</td>\n",
       "      <td>7</td>\n",
       "    </tr>\n",
       "    <tr>\n",
       "      <th>3</th>\n",
       "      <td>346785</td>\n",
       "      <td>uk_limited_company</td>\n",
       "      <td>False</td>\n",
       "      <td>0</td>\n",
       "    </tr>\n",
       "    <tr>\n",
       "      <th>4</th>\n",
       "      <td>346786</td>\n",
       "      <td>uk_limited_company</td>\n",
       "      <td>False</td>\n",
       "      <td>0</td>\n",
       "    </tr>\n",
       "  </tbody>\n",
       "</table>\n",
       "</div>"
      ],
      "text/plain": [
       "   company        company_type  subscribed_after_free_trial  \\\n",
       "0   346782  uk_limited_company                        False   \n",
       "1   346783  uk_limited_company                        False   \n",
       "2   346784  uk_limited_company                         True   \n",
       "3   346785  uk_limited_company                        False   \n",
       "4   346786  uk_limited_company                        False   \n",
       "\n",
       "   Number of Times Used in a Week  \n",
       "0                               3  \n",
       "1                               0  \n",
       "2                               7  \n",
       "3                               0  \n",
       "4                               0  "
      ]
     },
     "execution_count": 13,
     "metadata": {},
     "output_type": "execute_result"
    }
   ],
   "source": [
    "data[\"Number of Times Used in a Week\"] = total_usage\n",
    "data.head()"
   ]
  },
  {
   "cell_type": "code",
   "execution_count": 14,
   "metadata": {},
   "outputs": [
    {
     "data": {
      "text/html": [
       "<div>\n",
       "<style scoped>\n",
       "    .dataframe tbody tr th:only-of-type {\n",
       "        vertical-align: middle;\n",
       "    }\n",
       "\n",
       "    .dataframe tbody tr th {\n",
       "        vertical-align: top;\n",
       "    }\n",
       "\n",
       "    .dataframe thead th {\n",
       "        text-align: right;\n",
       "    }\n",
       "</style>\n",
       "<table border=\"1\" class=\"dataframe\">\n",
       "  <thead>\n",
       "    <tr style=\"text-align: right;\">\n",
       "      <th></th>\n",
       "      <th>subscribed_after_free_trial</th>\n",
       "      <th>Number of Times Used in a Week</th>\n",
       "    </tr>\n",
       "  </thead>\n",
       "  <tbody>\n",
       "    <tr>\n",
       "      <th>0</th>\n",
       "      <td>False</td>\n",
       "      <td>3</td>\n",
       "    </tr>\n",
       "    <tr>\n",
       "      <th>1</th>\n",
       "      <td>False</td>\n",
       "      <td>0</td>\n",
       "    </tr>\n",
       "    <tr>\n",
       "      <th>2</th>\n",
       "      <td>True</td>\n",
       "      <td>7</td>\n",
       "    </tr>\n",
       "    <tr>\n",
       "      <th>3</th>\n",
       "      <td>False</td>\n",
       "      <td>0</td>\n",
       "    </tr>\n",
       "    <tr>\n",
       "      <th>4</th>\n",
       "      <td>False</td>\n",
       "      <td>0</td>\n",
       "    </tr>\n",
       "  </tbody>\n",
       "</table>\n",
       "</div>"
      ],
      "text/plain": [
       "   subscribed_after_free_trial  Number of Times Used in a Week\n",
       "0                        False                               3\n",
       "1                        False                               0\n",
       "2                         True                               7\n",
       "3                        False                               0\n",
       "4                        False                               0"
      ]
     },
     "execution_count": 14,
     "metadata": {},
     "output_type": "execute_result"
    }
   ],
   "source": [
    "log_ins = data[[\"subscribed_after_free_trial\", \"Number of Times Used in a Week\"]]\n",
    "log_ins.head()"
   ]
  },
  {
   "cell_type": "code",
   "execution_count": 15,
   "metadata": {},
   "outputs": [
    {
     "data": {
      "text/plain": [
       "{0: 198, 1: 268, 2: 196, 3: 74, 4: 36, 5: 11, 6: 6}"
      ]
     },
     "execution_count": 15,
     "metadata": {},
     "output_type": "execute_result"
    }
   ],
   "source": [
    "log_in_dict_false = {}\n",
    "log_in_dict_true = {}\n",
    "for x in range(len(log_ins)):\n",
    "    if log_ins.iloc[x,0] == False:\n",
    "        if log_ins.iloc[x,1] in log_in_dict_false.keys():\n",
    "            log_in_dict_false[log_ins.iloc[x,1]] +=1\n",
    "        else:\n",
    "            log_in_dict_false[log_ins.iloc[x,1]] =1\n",
    "            \n",
    "    else:\n",
    "        if log_ins.iloc[x,1] in log_in_dict_true.keys():\n",
    "            log_in_dict_true[log_ins.iloc[x,1]] +=1\n",
    "        else:\n",
    "            log_in_dict_true[log_ins.iloc[x,1]] =1\n",
    "log_in_dict_false"
   ]
  },
  {
   "cell_type": "code",
   "execution_count": 16,
   "metadata": {},
   "outputs": [
    {
     "data": {
      "text/plain": [
       "{3: 2,\n",
       " 4: 4,\n",
       " 5: 14,\n",
       " 6: 16,\n",
       " 7: 32,\n",
       " 8: 16,\n",
       " 9: 20,\n",
       " 10: 18,\n",
       " 11: 21,\n",
       " 12: 8,\n",
       " 13: 6,\n",
       " 14: 1,\n",
       " 15: 2,\n",
       " 18: 1}"
      ]
     },
     "execution_count": 16,
     "metadata": {},
     "output_type": "execute_result"
    }
   ],
   "source": [
    "log_in_dict_true"
   ]
  },
  {
   "cell_type": "code",
   "execution_count": 17,
   "metadata": {},
   "outputs": [
    {
     "data": {
      "text/plain": [
       "array([ 0.,  0.,  0.,  2.,  4., 14., 16., 32., 16., 20., 18., 21.,  8.,\n",
       "        6.,  1.,  2.,  0.,  0.,  1.])"
      ]
     },
     "execution_count": 17,
     "metadata": {},
     "output_type": "execute_result"
    }
   ],
   "source": [
    "true_y_values = np.zeros(19)\n",
    "for x in log_in_dict_true.keys():\n",
    "    true_y_values[x] = log_in_dict_true[x]\n",
    "true_y_values\n",
    "\n"
   ]
  },
  {
   "cell_type": "code",
   "execution_count": 18,
   "metadata": {},
   "outputs": [
    {
     "data": {
      "text/plain": [
       "['0%',\n",
       " '0%',\n",
       " '0%',\n",
       " '2%',\n",
       " '10%',\n",
       " '56%',\n",
       " '72%',\n",
       " '100%',\n",
       " '100%',\n",
       " '100%',\n",
       " '100%',\n",
       " '100%',\n",
       " '100%',\n",
       " '100%',\n",
       " '100%',\n",
       " '100%',\n",
       " '0%',\n",
       " '0%',\n",
       " '100%']"
      ]
     },
     "execution_count": 18,
     "metadata": {},
     "output_type": "execute_result"
    }
   ],
   "source": [
    "false_y_values = np.zeros(19)\n",
    "for x in log_in_dict_false.keys():\n",
    "    false_y_values[x] = log_in_dict_false[x]\n",
    "false_y_values\n",
    "x_values = np.arange(0,19)\n",
    "x_values\n",
    "\n",
    "total_values = false_y_values + true_y_values\n",
    "total_values\n",
    "percentages = []\n",
    "for x in range(len(true_y_values)):\n",
    "    if total_values[x] !=0:\n",
    "        percentages.append(str(int((true_y_values[x]/total_values[x])*100))+'%')\n",
    "    else:\n",
    "        percentages.append(str(0)+'%')\n",
    "\n",
    "percentages"
   ]
  },
  {
   "cell_type": "code",
   "execution_count": 32,
   "metadata": {},
   "outputs": [
    {
     "data": {
      "text/plain": [
       "count    950.000000\n",
       "mean       2.614737\n",
       "std        3.077330\n",
       "min        0.000000\n",
       "25%        1.000000\n",
       "50%        2.000000\n",
       "75%        3.000000\n",
       "max       18.000000\n",
       "Name: Number of Times Used in a Week, dtype: float64"
      ]
     },
     "execution_count": 32,
     "metadata": {},
     "output_type": "execute_result"
    }
   ],
   "source": [
    "data[\"Number of Times Used in a Week\"].describe()"
   ]
  },
  {
   "cell_type": "code",
   "execution_count": 37,
   "metadata": {},
   "outputs": [
    {
     "data": {
      "text/plain": [
       "count    161.000000\n",
       "mean       8.490683\n",
       "std        2.610359\n",
       "min        3.000000\n",
       "25%        7.000000\n",
       "50%        8.000000\n",
       "75%       10.000000\n",
       "max       18.000000\n",
       "Name: Number of Times Used in a Week, dtype: float64"
      ]
     },
     "execution_count": 37,
     "metadata": {},
     "output_type": "execute_result"
    }
   ],
   "source": [
    "data[data[\"Yes or no\"] == 1][\"Number of Times Used in a Week\"].describe()"
   ]
  },
  {
   "cell_type": "markdown",
   "metadata": {},
   "source": [
    "Assumption : The dataset follows a gaussian distribution. \n",
    "\n",
    "I am using hypothesis testing to check whether the number of log ins influences the decision of the consumer to subscribe or not to the application after the seven day trial period. On average, the number of times a consumer has logged in given they are going to subscribe is about 8.5 times with a standard deviation of about 2.6. In general the number of times logged in a wekk is about 2.6 with a standard deviation of 3. \n",
    "\n",
    "Hypothesis Null - The number of log ins does not make an affect to whether or not a consumer suscribes to the model.\n",
    "Hypothesis alternative - The number of log ins decide whether or not a consumer subscribes to the application."
   ]
  },
  {
   "cell_type": "code",
   "execution_count": 39,
   "metadata": {},
   "outputs": [
    {
     "data": {
      "text/plain": [
       "1.9094299278920366"
      ]
     },
     "execution_count": 39,
     "metadata": {},
     "output_type": "execute_result"
    }
   ],
   "source": [
    "(8.490683 - 2.614737)/3.077330"
   ]
  },
  {
   "cell_type": "markdown",
   "metadata": {},
   "source": [
    "Z score is 1.91, which makes my p value (looking up from the z score table) 0.0281.  Because this value is less than 0.05, we can reject the null hypothesis."
   ]
  },
  {
   "cell_type": "code",
   "execution_count": 19,
   "metadata": {},
   "outputs": [
    {
     "data": {
      "image/png": "[encoded data removed]",
      "text/plain": [
       "<Figure size 1080x720 with 1 Axes>"
      ]
     },
     "metadata": {},
     "output_type": "display_data"
    }
   ],
   "source": [
    "\n",
    "ind = x_values    # the x locations for the groups\n",
    "width = 0.7    # the width of the bars: can also be len(x) sequence\n",
    "\n",
    "plt.figure(figsize=(15,10))\n",
    "\n",
    "p1 = plt.bar(ind, false_y_values, width, color='#007abfff')\n",
    "p2 = plt.bar(ind, true_y_values, width,\n",
    "             bottom=false_y_values, color='#7cc04a')\n",
    "\n",
    "plt.ylabel('number of companies')\n",
    "plt.title('Number of Log-ins against Subscription', pad='20', fontsize='20')\n",
    "plt.ylim(0,300)\n",
    "plt.xticks(x_values)\n",
    "plt.xlabel('number of log-ins')\n",
    "\n",
    "plt.legend((p1[0], p2[0]), ('Not Subscribed', 'Subscribed'))\n",
    "i = -0.2\n",
    "for x in range(len(percentages)):\n",
    "    plt.annotate(percentages[x], (i, total_values[x]+2.5), fontsize = '8')\n",
    "    i += 1\n",
    "\n",
    "plt.show()"
   ]
  },
  {
   "cell_type": "markdown",
   "metadata": {},
   "source": [
    "The above is a bar graph which shows the number of logins on the x-axis and the number of companies that had that many logins. Above the bars are the percentages of companies that subscribed to the model after logging in that many times during the week. From the graph above, it shows that if a company logs in 7 times or more during the seven day trial period (at least once a day), they are gauranteed to subscribe to the applicaiton.   To add there is more than a 50% chance of subscription if the customers logs in 5 or 6 times during the week. \n",
    "\n",
    "Side note: \n",
    "From the analysis above, I would suggest that if a company has logged in 4/5 times by the 6th day and they log in on the seventh day, I think it would be advisable if free agent decided to give a discount ith the intension of bring the customer in because from the evidence above it shows when people login 5 times they are on the edge, hence this would be one way to get more customers. \n",
    "\n",
    "Now I would like to use machine learning to predict whether a customer chooses to subscribe to the application or not."
   ]
  },
  {
   "cell_type": "code",
   "execution_count": 20,
   "metadata": {},
   "outputs": [
    {
     "data": {
      "text/html": [
       "<div>\n",
       "<style scoped>\n",
       "    .dataframe tbody tr th:only-of-type {\n",
       "        vertical-align: middle;\n",
       "    }\n",
       "\n",
       "    .dataframe tbody tr th {\n",
       "        vertical-align: top;\n",
       "    }\n",
       "\n",
       "    .dataframe thead th {\n",
       "        text-align: right;\n",
       "    }\n",
       "</style>\n",
       "<table border=\"1\" class=\"dataframe\">\n",
       "  <thead>\n",
       "    <tr style=\"text-align: right;\">\n",
       "      <th></th>\n",
       "      <th>company</th>\n",
       "      <th>company_type</th>\n",
       "      <th>subscribed_after_free_trial</th>\n",
       "      <th>Number of Times Used in a Week</th>\n",
       "    </tr>\n",
       "  </thead>\n",
       "  <tbody>\n",
       "    <tr>\n",
       "      <th>0</th>\n",
       "      <td>346782</td>\n",
       "      <td>uk_limited_company</td>\n",
       "      <td>False</td>\n",
       "      <td>3</td>\n",
       "    </tr>\n",
       "    <tr>\n",
       "      <th>1</th>\n",
       "      <td>346783</td>\n",
       "      <td>uk_limited_company</td>\n",
       "      <td>False</td>\n",
       "      <td>0</td>\n",
       "    </tr>\n",
       "    <tr>\n",
       "      <th>2</th>\n",
       "      <td>346784</td>\n",
       "      <td>uk_limited_company</td>\n",
       "      <td>True</td>\n",
       "      <td>7</td>\n",
       "    </tr>\n",
       "    <tr>\n",
       "      <th>3</th>\n",
       "      <td>346785</td>\n",
       "      <td>uk_limited_company</td>\n",
       "      <td>False</td>\n",
       "      <td>0</td>\n",
       "    </tr>\n",
       "    <tr>\n",
       "      <th>4</th>\n",
       "      <td>346786</td>\n",
       "      <td>uk_limited_company</td>\n",
       "      <td>False</td>\n",
       "      <td>0</td>\n",
       "    </tr>\n",
       "  </tbody>\n",
       "</table>\n",
       "</div>"
      ],
      "text/plain": [
       "   company        company_type  subscribed_after_free_trial  \\\n",
       "0   346782  uk_limited_company                        False   \n",
       "1   346783  uk_limited_company                        False   \n",
       "2   346784  uk_limited_company                         True   \n",
       "3   346785  uk_limited_company                        False   \n",
       "4   346786  uk_limited_company                        False   \n",
       "\n",
       "   Number of Times Used in a Week  \n",
       "0                               3  \n",
       "1                               0  \n",
       "2                               7  \n",
       "3                               0  \n",
       "4                               0  "
      ]
     },
     "execution_count": 20,
     "metadata": {},
     "output_type": "execute_result"
    }
   ],
   "source": [
    "data.head()"
   ]
  },
  {
   "cell_type": "code",
   "execution_count": 21,
   "metadata": {},
   "outputs": [
    {
     "data": {
      "text/html": [
       "<div>\n",
       "<style scoped>\n",
       "    .dataframe tbody tr th:only-of-type {\n",
       "        vertical-align: middle;\n",
       "    }\n",
       "\n",
       "    .dataframe tbody tr th {\n",
       "        vertical-align: top;\n",
       "    }\n",
       "\n",
       "    .dataframe thead th {\n",
       "        text-align: right;\n",
       "    }\n",
       "</style>\n",
       "<table border=\"1\" class=\"dataframe\">\n",
       "  <thead>\n",
       "    <tr style=\"text-align: right;\">\n",
       "      <th></th>\n",
       "      <th>company</th>\n",
       "      <th>company_type</th>\n",
       "      <th>subscribed_after_free_trial</th>\n",
       "      <th>Number of Times Used in a Week</th>\n",
       "      <th>Yes or no</th>\n",
       "    </tr>\n",
       "  </thead>\n",
       "  <tbody>\n",
       "    <tr>\n",
       "      <th>0</th>\n",
       "      <td>0</td>\n",
       "      <td>uk_limited_company</td>\n",
       "      <td>False</td>\n",
       "      <td>3</td>\n",
       "      <td>0</td>\n",
       "    </tr>\n",
       "    <tr>\n",
       "      <th>1</th>\n",
       "      <td>0</td>\n",
       "      <td>uk_limited_company</td>\n",
       "      <td>False</td>\n",
       "      <td>0</td>\n",
       "      <td>0</td>\n",
       "    </tr>\n",
       "    <tr>\n",
       "      <th>2</th>\n",
       "      <td>0</td>\n",
       "      <td>uk_limited_company</td>\n",
       "      <td>True</td>\n",
       "      <td>7</td>\n",
       "      <td>1</td>\n",
       "    </tr>\n",
       "    <tr>\n",
       "      <th>3</th>\n",
       "      <td>0</td>\n",
       "      <td>uk_limited_company</td>\n",
       "      <td>False</td>\n",
       "      <td>0</td>\n",
       "      <td>0</td>\n",
       "    </tr>\n",
       "    <tr>\n",
       "      <th>4</th>\n",
       "      <td>0</td>\n",
       "      <td>uk_limited_company</td>\n",
       "      <td>False</td>\n",
       "      <td>0</td>\n",
       "      <td>0</td>\n",
       "    </tr>\n",
       "  </tbody>\n",
       "</table>\n",
       "</div>"
      ],
      "text/plain": [
       "   company        company_type  subscribed_after_free_trial  \\\n",
       "0        0  uk_limited_company                        False   \n",
       "1        0  uk_limited_company                        False   \n",
       "2        0  uk_limited_company                         True   \n",
       "3        0  uk_limited_company                        False   \n",
       "4        0  uk_limited_company                        False   \n",
       "\n",
       "   Number of Times Used in a Week  Yes or no  \n",
       "0                               3          0  \n",
       "1                               0          0  \n",
       "2                               7          1  \n",
       "3                               0          0  \n",
       "4                               0          0  "
      ]
     },
     "execution_count": 21,
     "metadata": {},
     "output_type": "execute_result"
    }
   ],
   "source": [
    "lists = []\n",
    "for x in data[\"subscribed_after_free_trial\"]:\n",
    "    if x:\n",
    "        lists.append(1)\n",
    "    else:\n",
    "        lists.append(0)\n",
    "data[\"Yes or no\"] = lists\n",
    "\n",
    "lists = []\n",
    "for x in data[\"company_type\"]:\n",
    "    if x == \"uk_limited_company\":\n",
    "        lists.append(0)\n",
    "    elif x == \"uk_sole_trader\":\n",
    "        lists.append(1)\n",
    "    else:\n",
    "        lists.append(2)\n",
    "data[\"company\"] = lists\n",
    "data.head()"
   ]
  },
  {
   "cell_type": "markdown",
   "metadata": {},
   "source": [
    "Idea is to make the values numerical, so that can work with machine learning models - one hot encoding"
   ]
  },
  {
   "cell_type": "code",
   "execution_count": 22,
   "metadata": {},
   "outputs": [],
   "source": [
    "values = data[[\"company\", \"Number of Times Used in a Week\"]]\n",
    "answer = data[\"Yes or no\"]"
   ]
  },
  {
   "cell_type": "code",
   "execution_count": 23,
   "metadata": {},
   "outputs": [
    {
     "data": {
      "text/html": [
       "<div>\n",
       "<style scoped>\n",
       "    .dataframe tbody tr th:only-of-type {\n",
       "        vertical-align: middle;\n",
       "    }\n",
       "\n",
       "    .dataframe tbody tr th {\n",
       "        vertical-align: top;\n",
       "    }\n",
       "\n",
       "    .dataframe thead th {\n",
       "        text-align: right;\n",
       "    }\n",
       "</style>\n",
       "<table border=\"1\" class=\"dataframe\">\n",
       "  <thead>\n",
       "    <tr style=\"text-align: right;\">\n",
       "      <th></th>\n",
       "      <th>company</th>\n",
       "      <th>Number of Times Used in a Week</th>\n",
       "    </tr>\n",
       "  </thead>\n",
       "  <tbody>\n",
       "    <tr>\n",
       "      <th>0</th>\n",
       "      <td>0</td>\n",
       "      <td>3</td>\n",
       "    </tr>\n",
       "    <tr>\n",
       "      <th>1</th>\n",
       "      <td>0</td>\n",
       "      <td>0</td>\n",
       "    </tr>\n",
       "    <tr>\n",
       "      <th>2</th>\n",
       "      <td>0</td>\n",
       "      <td>7</td>\n",
       "    </tr>\n",
       "    <tr>\n",
       "      <th>3</th>\n",
       "      <td>0</td>\n",
       "      <td>0</td>\n",
       "    </tr>\n",
       "    <tr>\n",
       "      <th>4</th>\n",
       "      <td>0</td>\n",
       "      <td>0</td>\n",
       "    </tr>\n",
       "  </tbody>\n",
       "</table>\n",
       "</div>"
      ],
      "text/plain": [
       "   company  Number of Times Used in a Week\n",
       "0        0                               3\n",
       "1        0                               0\n",
       "2        0                               7\n",
       "3        0                               0\n",
       "4        0                               0"
      ]
     },
     "execution_count": 23,
     "metadata": {},
     "output_type": "execute_result"
    }
   ],
   "source": [
    "values.head()"
   ]
  },
  {
   "cell_type": "code",
   "execution_count": 24,
   "metadata": {},
   "outputs": [
    {
     "data": {
      "text/plain": [
       "0    0\n",
       "1    0\n",
       "2    1\n",
       "3    0\n",
       "4    0\n",
       "Name: Yes or no, dtype: int64"
      ]
     },
     "execution_count": 24,
     "metadata": {},
     "output_type": "execute_result"
    }
   ],
   "source": [
    "answer.head()"
   ]
  },
  {
   "cell_type": "code",
   "execution_count": 25,
   "metadata": {},
   "outputs": [
    {
     "name": "stdout",
     "output_type": "stream",
     "text": [
      "[0.97905759 0.97368421 0.97894737 0.96315789 0.96296296]\n",
      "Average 5-Fold CV Score: 0.9715620056540419\n"
     ]
    }
   ],
   "source": [
    "from sklearn.model_selection import  cross_val_score\n",
    "from sklearn import tree\n",
    "clf = tree.DecisionTreeClassifier()\n",
    "cv_scores = cross_val_score(clf, values, answer, cv=5)\n",
    "print(cv_scores)\n",
    "print(\"Average 5-Fold CV Score: {}\".format(np.mean(cv_scores)))\n"
   ]
  },
  {
   "cell_type": "markdown",
   "metadata": {},
   "source": [
    "The reason why I have chosen a decision tree is because intuitively anlayzing the data it is clear that the data can be seperated based on the company type, then based on the number of times the company logged in during the seven day trial period, the analysis shows that there is a pretty clear answer in terms of what is the most probable answer; hence, I thought that a decision tree would be a very good model, and based on the accurage above, the average accuracy is about 97% which is a pretty good measure. "
   ]
  },
  {
   "cell_type": "code",
   "execution_count": 26,
   "metadata": {},
   "outputs": [
    {
     "data": {
      "text/plain": [
       "<matplotlib.collections.PathCollection at 0x7f1c4941d0b8>"
      ]
     },
     "execution_count": 26,
     "metadata": {},
     "output_type": "execute_result"
    },
    {
     "data": {
      "image/png": "[encoded data removed]",
      "text/plain": [
       "<Figure size 432x288 with 1 Axes>"
      ]
     },
     "metadata": {},
     "output_type": "display_data"
    }
   ],
   "source": [
    "#values[values[\"company\"] == 0][\"Number of Times Used in a Week\"].shape\n",
    "#answer[values[\"company\"] == 0].shape\n",
    "plt.scatter(list(values[values[\"company\"] == 0][\"Number of Times Used in a Week\"]), list(answer[values[\"company\"] == 0]), c = \"red\")\n",
    "plt.scatter(list(values[values[\"company\"] == 1][\"Number of Times Used in a Week\"]), list(answer[values[\"company\"] == 1]), c = \"blue\")\n",
    "plt.scatter(list(values[values[\"company\"] == 2][\"Number of Times Used in a Week\"]), list(answer[values[\"company\"] == 2]), c = \"green\")\n"
   ]
  },
  {
   "cell_type": "markdown",
   "metadata": {},
   "source": [
    "Having a look at the graph above, one thing that can be noted is that there is quite an overlapping between the data points; this is one reason why I am choosing to use the machines learning technique svm to predict whether a company would subscribe to the application."
   ]
  },
  {
   "cell_type": "code",
   "execution_count": 27,
   "metadata": {},
   "outputs": [
    {
     "name": "stdout",
     "output_type": "stream",
     "text": [
      "[0.98429319 0.97368421 0.97368421 0.96842105 0.96296296]\n",
      "Average 5-Fold CV Score: 0.9726091260728902\n"
     ]
    }
   ],
   "source": [
    "from sklearn import svm\n",
    "clf = svm.SVC(kernel='rbf')\n",
    "cv_scores = cross_val_score(clf, values, answer, cv=5)\n",
    "print(cv_scores)\n",
    "print(\"Average 5-Fold CV Score: {}\".format(np.mean(cv_scores)))"
   ]
  },
  {
   "cell_type": "markdown",
   "metadata": {},
   "source": [
    "As we can see from the above, the svm also is able to predict accurately as well; its average shows that it performs just slighlty better than the decision tree.\n",
    "\n",
    "Another model that I would like to attempt, is a Logistic Regression. The reason being is because it behaves like a linear classifier, and this is one of those situations where it would be used well because the model needs to classify whether or not a company would subscribe or not."
   ]
  },
  {
   "cell_type": "code",
   "execution_count": 28,
   "metadata": {},
   "outputs": [
    {
     "name": "stdout",
     "output_type": "stream",
     "text": [
      "[0.98429319 0.97368421 0.97894737 0.97368421 0.96296296]\n",
      "Average 5-Fold CV Score: 0.974714389230785\n"
     ]
    }
   ],
   "source": [
    "from sklearn.linear_model import LogisticRegression\n",
    "clf = LogisticRegression()\n",
    "cv_scores = cross_val_score(clf, values, answer, cv=5)\n",
    "print(cv_scores)\n",
    "print(\"Average 5-Fold CV Score: {}\".format(np.mean(cv_scores)))"
   ]
  },
  {
   "cell_type": "markdown",
   "metadata": {},
   "source": [
    "As we can see from the results above, the Logisitic Regression model has performed the best out of all the models. Its accuracy is 0.02% better than the other two; however, one thing to notice is that all of the models have produced an accuracy of 97%, which is very good."
   ]
  },
  {
   "cell_type": "code",
   "execution_count": 29,
   "metadata": {},
   "outputs": [
    {
     "data": {
      "text/plain": [
       "[('Company', '# of Logins', 'Result'),\n",
       " ('UK Limited', '1', ' not subscribe '),\n",
       " ('UK Limited', '2', ' not subscribe '),\n",
       " ('UK Limited', '3', ' not subscribe '),\n",
       " ('UK Limited', '4', ' not subscribe '),\n",
       " ('UK Limited', '5', ' subscribe'),\n",
       " ('UK Limited', '6', ' subscribe'),\n",
       " ('UK Limited', '7', ' subscribe'),\n",
       " ('UK Limited', '8', ' subscribe'),\n",
       " ('UK Limited', '9', ' subscribe'),\n",
       " ('UK Sole', '1', ' not subscribe '),\n",
       " ('UK Sole', '2', ' not subscribe '),\n",
       " ('UK Sole', '3', ' not subscribe '),\n",
       " ('UK Sole', '4', ' not subscribe '),\n",
       " ('UK Sole', '5', ' not subscribe '),\n",
       " ('UK Sole', '6', ' subscribe'),\n",
       " ('UK Sole', '7', ' subscribe'),\n",
       " ('UK Sole', '8', ' subscribe'),\n",
       " ('UK Sole', '9', ' subscribe'),\n",
       " ('Universal', '1', ' not subscribe '),\n",
       " ('Universal', '2', ' not subscribe '),\n",
       " ('Universal', '3', ' not subscribe '),\n",
       " ('Universal', '4', ' not subscribe '),\n",
       " ('Universal', '5', ' not subscribe '),\n",
       " ('Universal', '6', ' not subscribe '),\n",
       " ('Universal', '7', ' subscribe'),\n",
       " ('Universal', '8', ' subscribe'),\n",
       " ('Universal', '9', ' subscribe')]"
      ]
     },
     "execution_count": 29,
     "metadata": {},
     "output_type": "execute_result"
    }
   ],
   "source": [
    "def companytranslation(x):\n",
    "    if x == 0:\n",
    "        return \"UK Limited\"\n",
    "    elif x == 1:\n",
    "        return \"UK Sole\"\n",
    "    else:\n",
    "        return \"Universal\"\n",
    "def resulttranslation(x):\n",
    "    if x == 0:\n",
    "        return \" not subscribe \"\n",
    "    elif x == 1:\n",
    "        return \" subscribe\"\n",
    "clf.fit(values, answer)\n",
    "    \n",
    "lists = []\n",
    "lists.append((\"Company\", \"# of Logins\", \"Result\"))\n",
    "for x in range(3):\n",
    "    for y in range(1,10):\n",
    "        lists.append((companytranslation(x), str(y), resulttranslation(clf.predict([[x,y]])[0])))\n",
    "        #rint(companytranslation(x) + \" logs-in \" + str(y) +  \" during the seven day trial period and the they will \" +  resulttranslation(clf.predict([[x,y]])[0]))\n",
    "        #print(companytranslation(x) + \" logs-in \" + str(y) + \" during the seven day trial period and the they will \" + resulttranslation(clf.predict([[x,y]])[0])\n",
    "lists    "
   ]
  },
  {
   "cell_type": "markdown",
   "metadata": {},
   "source": [
    "The above predictions (which are from the Logistic Regression) confirm the results shown in the graph \"Number of Log-ins against Subscription\", cause for both UK based companies if they both log in at least 6 times during the seven day trial period, then they are certain to subscribe to the model. UK Limited companies are more likely to subscribe logging in 5 times or more; whereas UK Sole companies are more likely to subscribe when they log in 6 times or more. \n",
    "\n",
    "Universal companies need to log in at least 7 times during the free trial period for them to subscribe according to the prediction model. From the above, free agent should definetely focus on UK base comapnies because that is where success is more guaranteed and it seems that their application suits UK based companies. To add, the application should have a system where they are able to track how many times a company has logged in before the last day of the seven day trial period and if they have logged in 3/4 times and they log in again, they should be given an inital discount to try and get them to subscribe. This would increases their revenue and customer base. "
   ]
  },
  {
   "cell_type": "code",
   "execution_count": null,
   "metadata": {},
   "outputs": [],
   "source": []
  },
  {
   "cell_type": "code",
   "execution_count": null,
   "metadata": {},
   "outputs": [],
   "source": []
  },
  {
   "cell_type": "code",
   "execution_count": null,
   "metadata": {},
   "outputs": [],
   "source": []
  },
  {
   "cell_type": "code",
   "execution_count": null,
   "metadata": {},
   "outputs": [],
   "source": []
  },
  {
   "cell_type": "code",
   "execution_count": null,
   "metadata": {},
   "outputs": [],
   "source": []
  },
  {
   "cell_type": "code",
   "execution_count": null,
   "metadata": {},
   "outputs": [],
   "source": []
  },
  {
   "cell_type": "code",
   "execution_count": null,
   "metadata": {},
   "outputs": [],
   "source": []
  },
  {
   "cell_type": "code",
   "execution_count": null,
   "metadata": {},
   "outputs": [],
   "source": []
  },
  {
   "cell_type": "code",
   "execution_count": null,
   "metadata": {},
   "outputs": [],
   "source": []
  },
  {
   "cell_type": "code",
   "execution_count": null,
   "metadata": {},
   "outputs": [],
   "source": []
  },
  {
   "cell_type": "code",
   "execution_count": null,
   "metadata": {},
   "outputs": [],
   "source": []
  }
 ],
 "metadata": {
  "kernelspec": {
   "display_name": "Python 3",
   "language": "python",
   "name": "python3"
  },
  "language_info": {
   "codemirror_mode": {
    "name": "ipython",
    "version": 3
   },
   "file_extension": ".py",
   "mimetype": "text/x-python",
   "name": "python",
   "nbconvert_exporter": "python",
   "pygments_lexer": "ipython3",
   "version": "3.4.9"
  }
 },
 "nbformat": 4,
 "nbformat_minor": 2
}
